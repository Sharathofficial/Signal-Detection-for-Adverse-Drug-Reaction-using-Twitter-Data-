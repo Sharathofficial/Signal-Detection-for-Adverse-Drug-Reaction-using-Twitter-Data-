{
 "cells": [
  {
   "cell_type": "markdown",
   "metadata": {},
   "source": [
    "## Twitter Data Extraction "
   ]
  },
  {
   "cell_type": "code",
   "execution_count": null,
   "metadata": {},
   "outputs": [],
   "source": [
    "import snscrape.modules.twitter as sntwitter\n",
    "import pandas as pd"
   ]
  },
  {
   "cell_type": "code",
   "execution_count": null,
   "metadata": {},
   "outputs": [],
   "source": [
    "diclofenac = []\n",
    "for i,tweet in enumerate(sntwitter.TwitterSearchScraper('diclofenac since:2010-01-01 until:2021-05-31 lang:en').get_items()):\n",
    "    diclofenac.append([tweet.date, tweet.id, tweet.content, tweet.username])"
   ]
  },
  {
   "cell_type": "code",
   "execution_count": null,
   "metadata": {},
   "outputs": [],
   "source": [
    "df_diclofenac = pd.DataFrame(diclofenac, columns = ['date','id','content','username'])"
   ]
  },
  {
   "cell_type": "code",
   "execution_count": null,
   "metadata": {},
   "outputs": [],
   "source": [
    "ibuprofen = []\n",
    "for i,tweet in enumerate(sntwitter.TwitterSearchScraper('ibuprofen since:2010-01-01 until:2021-05-31 lang:en').get_items()):\n",
    "    ibuprofen.append([tweet.date, tweet.id, tweet.content, tweet.username])"
   ]
  },
  {
   "cell_type": "code",
   "execution_count": null,
   "metadata": {},
   "outputs": [],
   "source": [
    "df_ibuprofen = pd.DataFrame(ibuprofen, columns = ['date','id','content','username'])"
   ]
  },
  {
   "cell_type": "code",
   "execution_count": null,
   "metadata": {},
   "outputs": [],
   "source": [
    "meclofenamate = []\n",
    "for i,tweet in enumerate(sntwitter.TwitterSearchScraper('meclofenamate sodium since:2010-01-01 until:2021-05-31 lang:en').get_items()):\n",
    "    meclofenamate.append([tweet.date, tweet.id, tweet.content, tweet.username])"
   ]
  },
  {
   "cell_type": "code",
   "execution_count": null,
   "metadata": {},
   "outputs": [],
   "source": [
    "df_meclofenamate = pd.DataFrame(meclofenamate, columns = ['date','id','content','username'])"
   ]
  },
  {
   "cell_type": "code",
   "execution_count": null,
   "metadata": {},
   "outputs": [],
   "source": [
    "Indomethacin = []\n",
    "for i,tweet in enumerate(sntwitter.TwitterSearchScraper('indomethacin since:2010-01-01 until:2021-05-31 lang:en').get_items()):\n",
    "    Indomethacin.append([tweet.date, tweet.id, tweet.content, tweet.username])"
   ]
  },
  {
   "cell_type": "code",
   "execution_count": null,
   "metadata": {},
   "outputs": [],
   "source": [
    "df_Indomethacin = pd.DataFrame(Indomethacin, columns = ['date','id','content','username'])"
   ]
  },
  {
   "cell_type": "code",
   "execution_count": null,
   "metadata": {},
   "outputs": [],
   "source": [
    "oxaprozin = []\n",
    "for i,tweet in enumerate(sntwitter.TwitterSearchScraper('oxaprozin since:2010-01-01 until:2021-05-31 lang:en').get_items()):\n",
    "    oxaprozin.append([tweet.date, tweet.id, tweet.content, tweet.username])"
   ]
  },
  {
   "cell_type": "code",
   "execution_count": null,
   "metadata": {},
   "outputs": [],
   "source": [
    "df_oxaprozin = pd.DataFrame(oxaprozin, columns = ['date','id','content','username'])"
   ]
  },
  {
   "cell_type": "code",
   "execution_count": null,
   "metadata": {},
   "outputs": [],
   "source": [
    "meloxicam = []\n",
    "for i,tweet in enumerate(sntwitter.TwitterSearchScraper('meloxicam since:2010-01-01 until:2021-05-31 lang:en').get_items()):\n",
    "    meloxicam.append([tweet.date, tweet.id, tweet.content, tweet.username])"
   ]
  },
  {
   "cell_type": "code",
   "execution_count": null,
   "metadata": {},
   "outputs": [],
   "source": [
    "df_meloxicam = pd.DataFrame(meloxicam, columns = ['date','id','content','username'])"
   ]
  },
  {
   "cell_type": "code",
   "execution_count": null,
   "metadata": {},
   "outputs": [],
   "source": [
    "ketorolac = []\n",
    "for i,tweet in enumerate(sntwitter.TwitterSearchScraper('ketorolac since:2010-01-01 until:2021-05-31 lang:en').get_items()):\n",
    "    ketorolac.append([tweet.date, tweet.id, tweet.content, tweet.username])"
   ]
  },
  {
   "cell_type": "code",
   "execution_count": null,
   "metadata": {},
   "outputs": [],
   "source": [
    "df_ketorolac = pd.DataFrame(ketorolac, columns = ['date','id','content','username'])"
   ]
  },
  {
   "cell_type": "code",
   "execution_count": null,
   "metadata": {},
   "outputs": [],
   "source": [
    "naproxen = []\n",
    "for i,tweet in enumerate(sntwitter.TwitterSearchScraper('naproxen since:2010-01-01 until:2021-05-31 lang:en').get_items()):\n",
    "    naproxen.append([tweet.date, tweet.id, tweet.content, tweet.username])"
   ]
  },
  {
   "cell_type": "code",
   "execution_count": null,
   "metadata": {},
   "outputs": [],
   "source": [
    "df_naproxen = pd.DataFrame(naproxen, columns = ['date','id','content','username'])"
   ]
  },
  {
   "cell_type": "code",
   "execution_count": null,
   "metadata": {},
   "outputs": [],
   "source": [
    "celecoxib = []\n",
    "for i,tweet in enumerate(sntwitter.TwitterSearchScraper('celecoxib since:2010-01-01 until:2021-05-31 lang:en').get_items()):\n",
    "    celecoxib.append([tweet.date, tweet.id, tweet.content, tweet.username])"
   ]
  },
  {
   "cell_type": "code",
   "execution_count": null,
   "metadata": {},
   "outputs": [],
   "source": [
    "df_celecoxib = pd.DataFrame(celecoxib, columns = ['date','id','content','username'])"
   ]
  },
  {
   "cell_type": "code",
   "execution_count": null,
   "metadata": {},
   "outputs": [],
   "source": [
    "mefenamic_acid = []\n",
    "for i,tweet in enumerate(sntwitter.TwitterSearchScraper('mefenamic acid since:2010-01-01 until:2021-05-31 lang:en').get_items()):\n",
    "    mefenamic_acid.append([tweet.date, tweet.id, tweet.content, tweet.username])"
   ]
  },
  {
   "cell_type": "code",
   "execution_count": null,
   "metadata": {},
   "outputs": [],
   "source": [
    "df_mefenamic_acid = pd.DataFrame(mefenamic_acid, columns = ['date','id','content','username'])"
   ]
  },
  {
   "cell_type": "code",
   "execution_count": null,
   "metadata": {},
   "outputs": [],
   "source": [
    "\n",
    "etoricoxib = []\n",
    "for i,tweet in enumerate(sntwitter.TwitterSearchScraper('etoricoxib since:2010-01-01 until:2021-05-31 lang:en').get_items()):\n",
    "    etoricoxib.append([tweet.date, tweet.id, tweet.content, tweet.username])"
   ]
  },
  {
   "cell_type": "code",
   "execution_count": null,
   "metadata": {},
   "outputs": [],
   "source": [
    "df_etoricoxib = pd.DataFrame(etoricoxib, columns = ['date','id','content','username'])"
   ]
  },
  {
   "cell_type": "code",
   "execution_count": null,
   "metadata": {},
   "outputs": [],
   "source": [
    "nsaidlist = [df_diclofenac,df_ibuprofen,df_meclofenamate,df_Indomethacin,df_oxaprozin,df_meloxicam,df_ketorolac,df_naproxen,df_celecoxib,df_mefenamic_acid,df_etoricoxib]\n",
    "nasaid = pd.concat(nsaidlist)"
   ]
  },
  {
   "cell_type": "code",
   "execution_count": null,
   "metadata": {},
   "outputs": [],
   "source": [
    "nasaid.to_csv('nasaid.csv')"
   ]
  }
 ],
 "metadata": {
  "kernelspec": {
   "display_name": "Python 3",
   "language": "python",
   "name": "python3"
  },
  "language_info": {
   "codemirror_mode": {
    "name": "ipython",
    "version": 3
   },
   "file_extension": ".py",
   "mimetype": "text/x-python",
   "name": "python",
   "nbconvert_exporter": "python",
   "pygments_lexer": "ipython3",
   "version": "3.8.5"
  }
 },
 "nbformat": 4,
 "nbformat_minor": 4
}
